{
 "cells": [
  {
   "cell_type": "code",
   "id": "initial_id",
   "metadata": {
    "collapsed": true,
    "ExecuteTime": {
     "end_time": "2024-04-09T20:58:01.675987Z",
     "start_time": "2024-04-09T20:58:01.593260Z"
    }
   },
   "source": [
    "import numpy as np\n",
    "import MatCalc"
   ],
   "outputs": [],
   "execution_count": 1
  },
  {
   "cell_type": "markdown",
   "source": [
    "# Transformation orders\n",
    "1. Translate along X-axis and Y-axis by +5.0 and +2.0 units respectively\n",
    "2. Rotate around X-axis by +90.0 degrees\n",
    "3. Translate around Z-axis by -3.0 units"
   ],
   "metadata": {
    "collapsed": false
   },
   "id": "d7cbeac945f257d6"
  },
  {
   "cell_type": "code",
   "source": [
    "# A point relative to transformed frame\n",
    "P = np.array([0.0, 0.0, 0.0, 1.0])"
   ],
   "metadata": {
    "collapsed": false,
    "ExecuteTime": {
     "end_time": "2024-04-09T20:58:01.688685Z",
     "start_time": "2024-04-09T20:58:01.684533Z"
    }
   },
   "id": "4c39820871a6ec33",
   "outputs": [],
   "execution_count": 2
  },
  {
   "cell_type": "code",
   "source": [
    "# Translate along X-axis and Y-axis by +5.0 and +2.0 units respectively\n",
    "T1 = MatCalc.translation_4d(5.0, 2.0, 0.0)"
   ],
   "metadata": {
    "collapsed": false,
    "ExecuteTime": {
     "end_time": "2024-04-09T20:58:01.697067Z",
     "start_time": "2024-04-09T20:58:01.692228Z"
    }
   },
   "id": "94b3e8a07000c134",
   "outputs": [],
   "execution_count": 3
  },
  {
   "cell_type": "code",
   "source": [
    "# Rotate around X-axis by +90.0 degrees\n",
    "R1 = MatCalc.x_rotation_4d(90.0)"
   ],
   "metadata": {
    "collapsed": false,
    "ExecuteTime": {
     "end_time": "2024-04-09T20:58:01.708879Z",
     "start_time": "2024-04-09T20:58:01.703927Z"
    }
   },
   "id": "58708a876f558bb3",
   "outputs": [],
   "execution_count": 4
  },
  {
   "cell_type": "code",
   "source": [
    "# Translate around Z-axis by -3.0 units\n",
    "T2 = MatCalc.translation_4d(0.0, 0.0, -3.0)"
   ],
   "metadata": {
    "collapsed": false,
    "ExecuteTime": {
     "end_time": "2024-04-09T20:58:01.715666Z",
     "start_time": "2024-04-09T20:58:01.710414Z"
    }
   },
   "id": "39381eb0a0ee2061",
   "outputs": [],
   "execution_count": 5
  },
  {
   "cell_type": "code",
   "source": [
    "# A point after transformation relative to base frame\n",
    "transformation = np.dot(np.dot(T1, R1), T2)\n",
    "result = np.dot(transformation, P) \n",
    "\n",
    "print(result)"
   ],
   "metadata": {
    "collapsed": false,
    "ExecuteTime": {
     "end_time": "2024-04-09T20:58:01.725203Z",
     "start_time": "2024-04-09T20:58:01.717952Z"
    }
   },
   "id": "b1462ddc1788f1d",
   "outputs": [
    {
     "name": "stdout",
     "output_type": "stream",
     "text": [
      "[ 5.0000000e+00  5.0000000e+00 -1.8369702e-16  1.0000000e+00]\n"
     ]
    }
   ],
   "execution_count": 6
  }
 ],
 "metadata": {
  "kernelspec": {
   "display_name": "Python 3",
   "language": "python",
   "name": "python3"
  },
  "language_info": {
   "codemirror_mode": {
    "name": "ipython",
    "version": 2
   },
   "file_extension": ".py",
   "mimetype": "text/x-python",
   "name": "python",
   "nbconvert_exporter": "python",
   "pygments_lexer": "ipython2",
   "version": "2.7.6"
  }
 },
 "nbformat": 4,
 "nbformat_minor": 5
}
