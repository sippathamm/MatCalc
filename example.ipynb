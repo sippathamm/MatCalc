{
 "cells": [
  {
   "cell_type": "code",
   "id": "initial_id",
   "metadata": {
    "collapsed": true,
    "ExecuteTime": {
     "end_time": "2024-07-12T18:15:23.551599Z",
     "start_time": "2024-07-12T18:15:23.470222Z"
    }
   },
   "source": "from MatCalc import *",
   "outputs": [],
   "execution_count": 1
  },
  {
   "cell_type": "markdown",
   "source": [
    "# Example transformation\n",
    "Given the road frame $\\{R\\}$ relative to the camera frame $\\{C\\}$ as follows:\n",
    "1. Translate along the Y-axis by +10 units.\n",
    "2. Rotate around the X-axis by 90 degrees.\n",
    "3. Rotate around the Y-axis by 180 degrees.\n",
    "\n",
    "Find the point’s position in $\\{R\\}$ relative to $\\{C\\}$.\n",
    "Assuming that camera frame is placed at the origin."
   ],
   "metadata": {
    "collapsed": false
   },
   "id": "d7cbeac945f257d6"
  },
  {
   "metadata": {},
   "cell_type": "markdown",
   "source": [
    "The point’s position in $\\{R\\}$ relative to $\\{C\\}$ can be calculated as following:\n",
    "$$\n",
    "\\begin{bmatrix}\n",
    "x_c \\\\\n",
    "y_c \\\\\n",
    "z_c \\\\\n",
    "1\n",
    "\\end{bmatrix} =\n",
    "\\begin{bmatrix}\n",
    "r_{xx} & r_{xy} & r_{xz} & t_x \\\\\n",
    "r_{yx} & r_{yy} & r_{yz} & t_y \\\\\n",
    "r_{zx} & r_{zy} & r_{zz} & t_z \\\\\n",
    "0 & 0 & 0 & 1\n",
    "\\end{bmatrix}\n",
    "\\begin{bmatrix}\n",
    "x_r \\\\\n",
    "y_r \\\\\n",
    "z_r \\\\\n",
    "1\n",
    "\\end{bmatrix}\n",
    "$$"
   ],
   "id": "4537850eab48ec51"
  },
  {
   "metadata": {
    "ExecuteTime": {
     "end_time": "2024-07-12T18:15:23.563593Z",
     "start_time": "2024-07-12T18:15:23.559077Z"
    }
   },
   "cell_type": "code",
   "source": [
    "# Define the point's position in the road frame\n",
    "XYZ_road_frame = np.array([5, 4, 2, 1])"
   ],
   "id": "c957f25afa3bffec",
   "outputs": [],
   "execution_count": 2
  },
  {
   "metadata": {
    "ExecuteTime": {
     "end_time": "2024-07-12T18:15:23.567713Z",
     "start_time": "2024-07-12T18:15:23.564930Z"
    }
   },
   "cell_type": "code",
   "source": [
    "# Construct the transformation matrix\n",
    "road_frame = translation_4d(0, 10, 0) @ x_rotation_4d(90) @ y_rotation_4d(180)"
   ],
   "id": "cf56e61adede77ef",
   "outputs": [],
   "execution_count": 3
  },
  {
   "metadata": {
    "ExecuteTime": {
     "end_time": "2024-07-12T18:15:23.575633Z",
     "start_time": "2024-07-12T18:15:23.570639Z"
    }
   },
   "cell_type": "code",
   "source": [
    "# Calculate the point's position relative to the camera frame\n",
    "XYZ_cam_frame = road_frame @ XYZ_road_frame\n",
    "XYZ_cam_frame"
   ],
   "id": "86a7475849b4d2ad",
   "outputs": [
    {
     "data": {
      "text/plain": [
       "array([-5., 12.,  4.,  1.])"
      ]
     },
     "execution_count": 4,
     "metadata": {},
     "output_type": "execute_result"
    }
   ],
   "execution_count": 4
  }
 ],
 "metadata": {
  "kernelspec": {
   "display_name": "Python 3",
   "language": "python",
   "name": "python3"
  },
  "language_info": {
   "codemirror_mode": {
    "name": "ipython",
    "version": 2
   },
   "file_extension": ".py",
   "mimetype": "text/x-python",
   "name": "python",
   "nbconvert_exporter": "python",
   "pygments_lexer": "ipython2",
   "version": "2.7.6"
  }
 },
 "nbformat": 4,
 "nbformat_minor": 5
}
